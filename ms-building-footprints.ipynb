{
 "cells": [
  {
   "cell_type": "code",
   "execution_count": 1,
   "id": "6a63a93d",
   "metadata": {},
   "outputs": [],
   "source": [
    "import pandas as pd\n",
    "import geopandas as gpd\n",
    "from shapely.geometry import shape"
   ]
  },
  {
   "cell_type": "code",
   "execution_count": 3,
   "id": "58937e84",
   "metadata": {},
   "outputs": [],
   "source": [
    "def main():\n",
    "    # this is the name of the geography you want to retrieve. update to meet your needs\n",
    "    location = 'Turkey'\n",
    "\n",
    "    dataset_links = pd.read_csv(\"CSV_DOSYA_YOLU\")\n",
    "    greece_links = dataset_links[dataset_links.Location == location]\n",
    "    for _, row in greece_links.iterrows():\n",
    "        df = pd.read_json(row.Url, lines=True)\n",
    "        df['geometry'] = df['geometry'].apply(shape)\n",
    "        gdf = gpd.GeoDataFrame(df, crs=4326)\n",
    "        gdf.to_file(f\"{row.QuadKey}.geojson\", driver=\"GeoJSON\")\n",
    "\n",
    "\n",
    "if __name__ == \"__main__\":\n",
    "    main()"
   ]
  }
 ],
 "metadata": {
  "kernelspec": {
   "display_name": "Python 3 (ipykernel)",
   "language": "python",
   "name": "python3"
  },
  "language_info": {
   "codemirror_mode": {
    "name": "ipython",
    "version": 3
   },
   "file_extension": ".py",
   "mimetype": "text/x-python",
   "name": "python",
   "nbconvert_exporter": "python",
   "pygments_lexer": "ipython3",
   "version": "3.11.3"
  }
 },
 "nbformat": 4,
 "nbformat_minor": 5
}
