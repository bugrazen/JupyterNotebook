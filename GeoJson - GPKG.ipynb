{
 "cells": [
  {
   "cell_type": "code",
   "execution_count": 1,
   "id": "e68f7fca",
   "metadata": {},
   "outputs": [],
   "source": [
    "import os\n",
    "import geopandas as gpd\n",
    "from pathlib import Path\n",
    "import subprocess"
   ]
  },
  {
   "cell_type": "markdown",
   "id": "335cad99",
   "metadata": {},
   "source": [
    "# Parametreleri belirtin"
   ]
  },
  {
   "cell_type": "code",
   "execution_count": 5,
   "id": "3b0b6b53",
   "metadata": {},
   "outputs": [],
   "source": [
    "geojson_klasoru = \"C:/Users/bugra/Desktop/ms-buildings\"  # GeoJSON dosyalarının bulunduğu klasörü belirtin\n",
    "cikti_klasoru = \"ms-building-footprints.gpkg\"  # Oluşturulacak GPKG dosyasının adını belirtin"
   ]
  },
  {
   "cell_type": "code",
   "execution_count": 6,
   "id": "20858cf4",
   "metadata": {},
   "outputs": [],
   "source": [
    "def convert_geojson_to_gpkg(geojson_klasoru, cikti_klasoru):\n",
    "    geojson_dosyalari = list(Path(geojson_klasoru).glob(\"*.geojson\"))\n",
    "\n",
    "    if not geojson_dosyalari:\n",
    "        print(\"GeoJSON dosyaları bulunamadı.\")\n",
    "        return\n",
    "\n",
    "    ilk_geojson = geojson_dosyalari.pop(0)\n",
    "    ilk_gdf = gpd.read_file(ilk_geojson)\n",
    "    ilk_gdf.to_file(cikti_klasoru, driver=\"GPKG\", layer=ilk_geojson.stem)\n",
    "\n",
    "    for geojson_dosya in geojson_dosyalari:\n",
    "        input_layer = geojson_dosya.as_posix()\n",
    "        layer_name = geojson_dosya.stem\n",
    "        cmd = f'ogr2ogr -f \"GPKG\" -update -append -nln {layer_name} {cikti_klasoru} {input_layer}'\n",
    "        subprocess.run(cmd, shell=True, check=True)\n",
    "\n",
    "convert_geojson_to_gpkg(geojson_klasoru, cikti_klasoru)"
   ]
  }
 ],
 "metadata": {
  "kernelspec": {
   "display_name": "Python 3 (ipykernel)",
   "language": "python",
   "name": "python3"
  },
  "language_info": {
   "codemirror_mode": {
    "name": "ipython",
    "version": 3
   },
   "file_extension": ".py",
   "mimetype": "text/x-python",
   "name": "python",
   "nbconvert_exporter": "python",
   "pygments_lexer": "ipython3",
   "version": "3.11.3"
  }
 },
 "nbformat": 4,
 "nbformat_minor": 5
}
